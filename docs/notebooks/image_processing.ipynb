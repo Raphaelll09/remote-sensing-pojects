{
 "cells": [
  {
   "cell_type": "markdown",
   "metadata": {},
   "source": [
    "## Environment\n",
    "\n",
    "### Jupyter notebook\n",
    "\n",
    " - Web-based environment for interactive development of code.\n",
    " - Can interleave cells containing rich format comments (in **markdown**) and code (in our case, **Python 3**).\n",
    " - Best suited for **prototyping** and **demoing**.\n",
    " - When the cell is not in write mode use `A` and `B` to add a new cell before and after the current one, respectively.\n",
    " - Run the code in a cell with `Shift+Enter`.\n",
    " - Be careful of the side-effects of running cells **out of order**!\n",
    " \n",
    "\n",
    "### Setup\n",
    "- The necessary packages need to be installed from a terminal (In Jupyter, instructions starting with `!`). \n",
    "- Some environments, such as `Conda`, come up with a set of pre-installed packages, which include the most.\n",
    "- The packages have then to be imported with the `import` instruction to make the functions and classes available for use.\n",
    "- To import specific functions from a package: `from {package} import {function}`.\n",
    "- To give an alias to the package: `import {package} as {alias}`."
   ]
  },
  {
   "cell_type": "code",
   "execution_count": null,
   "metadata": {},
   "outputs": [],
   "source": [
    "%%capture\n",
    "# Installation of the required packages (in case they are not present in your environment)\n",
    "!pip install numpy\n",
    "!pip install matplotlib"
   ]
  },
  {
   "cell_type": "code",
   "execution_count": null,
   "metadata": {},
   "outputs": [],
   "source": [
    "# Importing the needed packages\n",
    "%matplotlib inline\n",
    "import pathlib\n",
    "import numpy as np\n",
    "import matplotlib.pyplot as plt\n",
    "import imageio"
   ]
  },
  {
   "cell_type": "markdown",
   "metadata": {},
   "source": [
    "## Browsing through local folders\n",
    "\n",
    "There are two ways to access a particular file on your folders.\n",
    "- *Relative* to the position of this notebook\n",
    "- *Absolute* from the root of your operating system\n",
    "\n",
    "In the following example, we read the same file through this different methods."
   ]
  },
  {
   "cell_type": "code",
   "execution_count": null,
   "metadata": {},
   "outputs": [],
   "source": [
    "# Relative path\n",
    "# This implies browsing two folders back from the one where this notebook is located\n",
    "filename = \"./../../data/example_geotiff_1band.tif\"\n",
    "\n",
    "# Absolute path\n",
    "# It requires resolving your project path first, then appending folders to it\n",
    "project_path = pathlib.Path.cwd().parents[2]\n",
    "filename = f\"{project_path.joinpath('data/example_geotiff_1band.tif')}\""
   ]
  },
  {
   "attachments": {},
   "cell_type": "markdown",
   "metadata": {},
   "source": [
    "## Basic operations on images\n",
    "\n",
    "### Reading from a file\n",
    "\n",
    "To recover the placement of the image, it is necessary to resolve its absolute path in your project organization. \n",
    "In the following example, we open a grayscale image and we save it over a bidimensional array `img`. This is a **numpy array**, a multidimentional and homogeneous array whose entries represent the intensity of the image at each pixel.\n",
    "\n",
    "**Image formats:** Most image processing utilities work with `float` types, for which the intensities are floating point values in the interval $[0, 1]$. When the image is loaded, however, the intensities are typically represented as an 8-bit unsigned, spanning the interval $[0, 255]$. For the purpose of processing, it is typically necessary to switch between these two representations (typically `float` when processing and `uint8` when displaying/returning outputs)."
   ]
  },
  {
   "cell_type": "code",
   "execution_count": null,
   "metadata": {},
   "outputs": [],
   "source": [
    "imagefile = \"./../../data/example_geotiff_1band.tif\"\n",
    "img = imageio.v2.imread(imagefile)\n",
    "print(f\"Type of the loaded image: {type(img)}\")\n",
    "print(f\"Data type of the pixel intensities (entries of the array): {img.dtype}\")\n",
    "print(f\"Range of the pixel intensities: [{np.min(img)}, {np.max(img)}]\")\n",
    "\n",
    "# Here the image is encoded with 12-bit unsigned values, spanning the interval [0, 4095].\n",
    "\n",
    "img_float = img.astype(float) / 4095\n",
    "print(f\"Data type of the pixel intensities (entries of the array): {img_float.dtype}\")\n",
    "print(f\"New range of the pixel intensities: [{np.min(img_float)}, {np.max(img_float)}]\")"
   ]
  },
  {
   "cell_type": "markdown",
   "metadata": {},
   "source": [
    "### Displaying an image\n",
    "\n",
    "The `mathplotlib` package provides: \n",
    "- the `figure()` function to set the canvas (the key `figsize` can adjust the size of your canvas)\n",
    "    - `subplots()` can be used to draw more figures on the same canvas\n",
    "- the `imshow()` function to plot an image (the `cmap` key defines the colormap to employ for monochromatic images)\n",
    "- the `show()` function to display all the figures that were produced (typically called at the end of your routine)."
   ]
  },
  {
   "cell_type": "code",
   "execution_count": null,
   "metadata": {},
   "outputs": [],
   "source": [
    "plt.figure(figsize=(15, 15)) \n",
    "plt.imshow(img_float, cmap='gray')\n",
    "plt.show()"
   ]
  },
  {
   "cell_type": "markdown",
   "metadata": {},
   "source": [
    "### Slicing\n",
    "Let us consider for simplicity a generic monodimensional numpy array `arr` of length `N`:\n",
    "- An element of the array is accessed through square brackets `arr[index]`\n",
    "- The indexes `index` go from `0` to `N-1`. \n",
    "- The array can be accessef from the end using negative indices, going from `-1` to `-N`\n",
    "\n",
    "the slicing operation is performed with any of the following operations:\n",
    "- `arr[start:stop]`\n",
    "- `arr[start:stop:step]`\n",
    "\n",
    "where:\n",
    "\n",
    "- `start` is the starting index (if not specified, it defaults to `0`, the first index of an array).\n",
    "- `stop` is the ending index (if not specified, it defaults to `N`). \n",
    "    - Note: the ending index itself is not included in the final sliced array\n",
    "- `step` is the step size, allowing to take every `step`-th sample (if not specified, it defaults to `1`)"
   ]
  },
  {
   "cell_type": "code",
   "execution_count": null,
   "metadata": {
    "scrolled": true
   },
   "outputs": [],
   "source": [
    "_, (ax1, ax2, ax3, ax4, ax5) = plt.subplots(1,5, figsize=(15,15))\n",
    "ax1.imshow(img[100:400,:], cmap=\"gray\")  # Horizontal slice\n",
    "ax2.imshow(img[:, 100:400], cmap=\"gray\")  # Vertical slice (starting from zero)\n",
    "ax3.imshow(img[:, -300:], cmap=\"gray\")  # Negative indices denote positions starting from the opposite end\n",
    "ax4.imshow(img[::2, :], cmap=\"gray\")  #  Takes a row every 2 (result: all the even indexed rows)\n",
    "ax5.imshow(img[::-1, :], cmap=\"gray\")  # Flipping an image on the horizontal side\n",
    "plt.show()"
   ]
  },
  {
   "cell_type": "markdown",
   "metadata": {},
   "source": [
    "### Mathematical operations\n",
    "\n",
    "Let: \n",
    "- `a` be a scalar\n",
    "- `img1` and `img2` be bidimensional numpy array with the same dimensions $N_1 \\times N_2$ (e.g. representing two images)\n",
    "- `arr` be a monodimensional array of dimension $N_1$\n",
    "\n",
    "Some basic operations that can be performed:\n",
    "- Mathematical operations (`+`, `-`, `*`, `\\`, `**`, etc.) on numpy arrays are considered elementwise:\n",
    "    - `img1 + img2` returns an array whose element are the sum of the corresponding elements of each array\n",
    "- Operation with scalars are broadcasted over all the elements:\n",
    "    - `a * img1` returns a $N_1 \\times N_2$ array where all the elements of `img1` have been multiplied by `a`\n",
    "- Any operation can be broadcasted as long as the dimensions of the operants are coherent:\n",
    "    - `img1 / arr[:, np.newaxis]` is equivalent to apply an elementwise division by `arr` on each row of `img1`\n",
    "    - `np.newaxis` is needed to add a new axis to `arr` of size 1, so that both arrays are bidimensional"
   ]
  },
  {
   "cell_type": "code",
   "execution_count": null,
   "metadata": {},
   "outputs": [],
   "source": [
    "# Example: Applying a linear shading along a direction\n",
    "\n",
    "(nb_rows, nb_cols) = img.shape\n",
    "shade_filter_h = np.linspace(0, 1, nb_rows) # Creates a gradient array (An array increasing linearly from 0 to 1)\n",
    "shade_filter_v = np.linspace(0, 1, nb_cols)\n",
    "\n",
    "print(f\"Sizes of the image: {img.shape}\")\n",
    "print(f\"Size of the filter: {shade_filter_h.shape}\")\n",
    "print(f\"Size of the filter to broadcast: {shade_filter_h[:, np.newaxis].shape}\")\n",
    "\n",
    "img_shaded_v = img * shade_filter_h[:, np.newaxis] # Vertical shading (Note: an axis is added to the end)\n",
    "img_shaded_h = img * shade_filter_v[np.newaxis, :] # Horizontal shading\n",
    "\n",
    "plt.imshow(img_shaded_v, cmap=\"gray\")\n",
    "plt.show()"
   ]
  }
 ],
 "metadata": {
  "kernelspec": {
   "display_name": "Python 3 (ipykernel)",
   "language": "python",
   "name": "python3"
  },
  "language_info": {
   "codemirror_mode": {
    "name": "ipython",
    "version": 3
   },
   "file_extension": ".py",
   "mimetype": "text/x-python",
   "name": "python",
   "nbconvert_exporter": "python",
   "pygments_lexer": "ipython3",
   "version": "3.10.7"
  }
 },
 "nbformat": 4,
 "nbformat_minor": 4
}
