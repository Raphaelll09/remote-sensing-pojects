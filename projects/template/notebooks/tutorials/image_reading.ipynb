{
 "cells": [
  {
   "cell_type": "markdown",
   "id": "b83e7e24",
   "metadata": {},
   "source": [
    "# Example of Jupyter notebook reading images\n",
    "Notebook showing how to read and visualize images coming in different formats"
   ]
  },
  {
   "cell_type": "markdown",
   "id": "90cc14df",
   "metadata": {},
   "source": [
    "## Load packages"
   ]
  },
  {
   "cell_type": "code",
   "execution_count": null,
   "id": "f9fcaabb",
   "metadata": {},
   "outputs": [],
   "source": [
    "%%capture\n",
    "! conda install gdal --y\n",
    "! conda install rasterio --y\n",
    "! conda install scipy --y\n",
    "! conda install numpy --y\n",
    "! conda install matplotlib --y\n",
    "! conda install imageio --y"
   ]
  },
  {
   "cell_type": "code",
   "execution_count": null,
   "id": "6bf0baf9",
   "metadata": {},
   "outputs": [],
   "source": [
    "import numpy as np\n",
    "import matplotlib.pyplot as plt\n",
    "import imageio"
   ]
  },
  {
   "cell_type": "markdown",
   "id": "1bf1d04b",
   "metadata": {},
   "source": [
    "## Reading a standard image\n",
    "Here we use the `imageio` package for reading an image. Other options exist, for example: `open-cv`"
   ]
  },
  {
   "cell_type": "code",
   "execution_count": null,
   "id": "aea908f2",
   "metadata": {},
   "outputs": [],
   "source": [
    "img = imageio.imread('./../../data/cam2_UTC_19-01-02_10-59-59-84.jpg')\n",
    "plt.imshow(img)"
   ]
  },
  {
   "cell_type": "markdown",
   "id": "58f67b15",
   "metadata": {},
   "source": [
    "## Reading a remote sensing image\n",
    "`imageio` can read also images that are not coded in 8 bits."
   ]
  },
  {
   "cell_type": "code",
   "execution_count": null,
   "id": "4eae18de",
   "metadata": {},
   "outputs": [],
   "source": [
    "# Helper functions for printing image information \n",
    "# Add src directory for being able to import its content\n",
    "import sys\n",
    "sys.path.append(\"./../../\")  \n",
    "\n",
    "# Import from a file in the src folder\n",
    "# from src.utilities.utils_gdal import gdal_img_info\n",
    "from src.utilities.utils_rasterio import rio_img_info\n",
    "\n",
    "# gdal_img_info(\"./../../data/example_geotiff_1band.tif\")\n",
    "rio_img_info(\"./../../data/example_geotiff_1band.tif\")"
   ]
  },
  {
   "cell_type": "code",
   "execution_count": null,
   "id": "a6887293",
   "metadata": {},
   "outputs": [],
   "source": [
    "# Example of reading an image not coded on 8 bits (here float32)\n",
    "\n",
    "filename1 = \"./../../data/example_geotiff_1band.tif\"\n",
    "img1 = imageio.imread(filename1)\n",
    "\n",
    "print(img1.shape)\n",
    "print(img1.dtype)\n",
    "\n",
    "# This is a scalar image with floating point values coded on 32 bits\n",
    "plt.imshow(img1)\n",
    "plt.colorbar()\n",
    "plt.show()\n",
    "\n"
   ]
  },
  {
   "cell_type": "code",
   "execution_count": null,
   "id": "fe9fa796",
   "metadata": {},
   "outputs": [],
   "source": [
    "# Example of reading a multispectral image with 7 bands\n",
    "filename2 = \"./../../data/example_geotiff_ms.tif\"\n",
    "\n",
    "img2 = imageio.imread(filename2)\n",
    "\n",
    "print(img2.shape)\n",
    "print(img2.dtype)\n",
    "print((img2.min(), img2.max()))\n",
    "\n",
    "# Visualize an arbitrary combination of 3 bands as a color image\n",
    "plt.imshow(img2[:,:,2::-1])\n",
    "plt.show()\n"
   ]
  },
  {
   "cell_type": "code",
   "execution_count": null,
   "id": "b2dd37c5",
   "metadata": {},
   "outputs": [],
   "source": [
    "# Do the same using rasterio (note that the pixel coordinates are expressed in a coordinate reference system (lat, lon))\n",
    "import rasterio\n",
    "from rasterio.plot import show\n",
    "img = rasterio.open(filename2)\n",
    "# For visualizing an image, use `show` from rasterio\n",
    "show(img)   \n",
    "\n",
    "rio_img_info(filename2)"
   ]
  },
  {
   "cell_type": "code",
   "execution_count": null,
   "id": "9c9bcafe",
   "metadata": {},
   "outputs": [],
   "source": [
    "# Use gdal for loading an image and matplotlib for visualize it\n",
    "from osgeo import gdal\n",
    "import matplotlib.pyplot as plt\n",
    "dataset = gdal.Open(filename2, gdal.GA_ReadOnly) \n",
    "# Note GetRasterBand() takes band no. starting from 1 not 0\n",
    "band = dataset.GetRasterBand(1)\n",
    "# Get an numpy array \n",
    "arr = band.ReadAsArray()\n",
    "\n",
    "# Being a numpy array, it is possible to visualize it with matplotlib\n",
    "plt.imshow(arr)\n",
    "plt.show()"
   ]
  },
  {
   "cell_type": "markdown",
   "id": "8d4ea361",
   "metadata": {},
   "source": [
    "## Reading a Matlab workspace"
   ]
  },
  {
   "cell_type": "code",
   "execution_count": null,
   "id": "cdd09163",
   "metadata": {},
   "outputs": [],
   "source": [
    "from scipy.io import loadmat\n",
    "data = loadmat('./../../data/example_matlab_workspace.mat') \n",
    "print(data)\n",
    "\n",
    "# Have a look at the content of a dictionary \n",
    "print(data.keys())\n",
    "\n",
    "# Extract the data of interest by accessing the dictionary by its key.\n",
    "Eem = data['Eem']\n",
    "# Plot the data\n",
    "plt.plot(Eem)\n",
    "plt.show()"
   ]
  },
  {
   "cell_type": "code",
   "execution_count": null,
   "id": "2131dcd3",
   "metadata": {},
   "outputs": [],
   "source": []
  }
 ],
 "metadata": {
  "kernelspec": {
   "display_name": "Python 3 (ipykernel)",
   "language": "python",
   "name": "python3"
  },
  "language_info": {
   "codemirror_mode": {
    "name": "ipython",
    "version": 3
   },
   "file_extension": ".py",
   "mimetype": "text/x-python",
   "name": "python",
   "nbconvert_exporter": "python",
   "pygments_lexer": "ipython3",
   "version": "3.10.7"
  },
  "metadata": {
   "interpreter": {
    "hash": "8ad23112cd6b273534b6d52ff863ca5443a208e542fe50aba8fa68f49e49ce60"
   }
  }
 },
 "nbformat": 4,
 "nbformat_minor": 5
}
