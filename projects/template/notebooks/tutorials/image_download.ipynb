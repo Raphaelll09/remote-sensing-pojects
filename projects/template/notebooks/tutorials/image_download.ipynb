{
 "cells": [
  {
   "cell_type": "markdown",
   "id": "cadb5c64",
   "metadata": {},
   "source": [
    "## Downloading from Copernicus"
   ]
  },
  {
   "cell_type": "code",
   "execution_count": null,
   "id": "cf49daa6",
   "metadata": {},
   "outputs": [],
   "source": [
    "%%capture\n",
    "!pip install sentinelsat"
   ]
  },
  {
   "cell_type": "code",
   "execution_count": null,
   "id": "84869ea4",
   "metadata": {},
   "outputs": [],
   "source": [
    "from sentinelsat import SentinelAPI, read_geojson, geojson_to_wkt\n",
    "from datetime import date\n",
    "from getpass import getpass"
   ]
  },
  {
   "cell_type": "code",
   "execution_count": null,
   "id": "96fda966",
   "metadata": {},
   "outputs": [],
   "source": [
    "# Create an account on https://scihub.copernicus.eu/dhus/#/home and input your credentials here\n",
    "username = input(\"Username: \")\n",
    "password = getpass(\"Password: \")\n",
    "\n",
    "# Image footprint generated from geojson.io\n",
    "geojson_file = \"./../../data/map.geojson\"\n",
    "\n",
    "# connect to the API\n",
    "api = SentinelAPI(username, password, 'https://scihub.copernicus.eu/dhus/')"
   ]
  },
  {
   "cell_type": "code",
   "execution_count": null,
   "id": "8394c114",
   "metadata": {},
   "outputs": [],
   "source": [
    "starting_date = date(2023, 4, 4)\n",
    "ending_date = date(2023, 4, 14)\n",
    "\n",
    "\n",
    "# search by polygon, time, and Hub query keywords\n",
    "footprint = geojson_to_wkt(read_geojson(geojson_file))\n",
    "products = api.query(footprint,\n",
    "                     date = (starting_date, ending_date),\n",
    "                     platformname = 'Sentinel-2',\n",
    "                     processinglevel='Level-2A',\n",
    "                     cloudcoverpercentage = (0, 30))"
   ]
  },
  {
   "cell_type": "code",
   "execution_count": null,
   "id": "a60c3c94",
   "metadata": {},
   "outputs": [],
   "source": [
    "# download all results from the search\n",
    "api.download_all(products)"
   ]
  },
  {
   "cell_type": "markdown",
   "id": "c725f076",
   "metadata": {},
   "source": [
    "# Downloading from Earth Explorer"
   ]
  },
  {
   "cell_type": "markdown",
   "id": "3c3088e2",
   "metadata": {},
   "source": [
    "\n",
    "2022 Montagnon Tristan (tristan.montagnon@univ-grenoble-alpes.fr || montagnon.tr@gmail.com)\n",
    "Satellite images downloader\n",
    "\n",
    "Questions, comments, and bug reports can be sent to:\n",
    "[Montagnon Tristan](tristan.montagnon@univ-grenoble-alpes.fr)\n",
    "\n",
    "## Installation and specificities\n",
    "--------------\n",
    "To have access to the data provided by Earth Explorer (EE):\n",
    "\n",
    "- Create an account EE (https://ers.cr.usgs.gov/login)\n",
    "\n",
    "- Request for Machine2Machine API access: https://ers.cr.usgs.gov/profile/access\n",
    "    There is a small form to fill to complete this step. \n",
    "\tWarning: This request will take a few days to be examined and accepted by EE staff\n",
    "\n",
    "--------------\n",
    "## To build the environment:\n",
    "    \n",
    "- Install landsatxplore package (with pip install landsatxplore): https://github.com/yannforget/landsatxplore \n",
    "- Adjustments to do in landsatxplore packages: \n",
    "    - In earthexplorer.py, comment / remove every line of \"ncform\":\n",
    "    - Line 39, to be commented / removed\n",
    "    - Line 43-44, to be commented / removed\n",
    "    - Line 46, remove / comment the output ncform ONLY\n",
    "    - Line 71, to be commented / removed"
   ]
  },
  {
   "cell_type": "markdown",
   "id": "5dba7b59",
   "metadata": {},
   "source": [
    "In the following example, we build a dictionary with the options required to download the dataset.\n",
    "\n",
    "- As `dataset`, we chose Landsat-2, but you can change the dataset you want to download:\n",
    "    \n",
    "    - Landsat 5 TM Collection 1 Level 1 \tlandsat_tm_c1       AVAILABLE\n",
    "    - Landsat 5 TM Collection 2 Level 1 \tlandsat_tm_c2_l1    AVAILABLE\n",
    "    - Landsat 5 TM Collection 2 Level 2 \tlandsat_tm_c2_l2    AVAILABLE\n",
    "    - Landsat 7 ETM+ Collection 1 Level 1 \tlandsat_etm_c1      AVAILABLE\n",
    "    - Landsat 7 ETM+ Collection 2 Level 1 \tlandsat_etm_c2_l1   NOT AVAILABLE\n",
    "    - Landsat 7 ETM+ Collection 2 Level 2 \tlandsat_etm_c2_l2   NOT AVAILABLE\n",
    "    - Landsat 8 Collection 1 Level 1 \t    landsat_8_c1        AVAILABLE\n",
    "    - Landsat 8 Collection 2 Level 1 \t    landsat_ot_c2_l1    NOT AVAILABLE\n",
    "    - Landsat 8 Collection 2 Level 2 \t    landsat_ot_c2_l2    NOT AVAILABLE\n",
    "    - Sentinel 2A \t                        sentinel_2a         AVAILABLE\n",
    "\n",
    "- By default, in the `location` field we set up to select a scene that contains the city of Grenoble.\n",
    "- The `max_results_search` isn't supposed to be changed\n",
    "- The `max_results_download` is the number of images you want to download\n",
    "- `start_date` and `end_date` must be adapted to your will. Note that the dates must be in `YYYY-MM-DD` format\n",
    "- With respect to `username` and `password`, your account linked to your username has to have acces to the M2M API. If you haven't done this step, please go this link: https://ers.cr.usgs.gov/profile/access"
   ]
  },
  {
   "cell_type": "code",
   "execution_count": null,
   "id": "232bc57d",
   "metadata": {},
   "outputs": [],
   "source": [
    "location = {\n",
    "    'country': 'Grenoble', \n",
    "    'lat': 45.2, \n",
    "    'lon': 5.7\n",
    "}\n",
    "\n",
    "my_dict = {\n",
    "    'location': location,\n",
    "    'dataset': 'landsat_tm_c2_l2',\n",
    "    'start_date': '2017-01-01',\n",
    "    'end_date': '2022-01-01',\n",
    "    'max_cloud_cover': 100.,\n",
    "    'max_results_search': 100,\n",
    "    'max_results_download': 2,\n",
    "}"
   ]
  },
  {
   "cell_type": "code",
   "execution_count": null,
   "id": "e1404c18",
   "metadata": {},
   "outputs": [],
   "source": [
    "%%capture\n",
    "# Installing the required package\n",
    "!pip install landsatxplore"
   ]
  },
  {
   "cell_type": "code",
   "execution_count": null,
   "id": "b9dc23b4",
   "metadata": {},
   "outputs": [],
   "source": [
    "import time\n",
    "import sys, os, pathlib\n",
    "from getpass import getpass\n",
    "\n",
    "from landsatxplore.api import API\n",
    "\n",
    "sys.path.append(f\"{pathlib.Path.cwd().parents[1]}\")\n",
    "from src.loading.earth_explorer_downloader import satellite_images_downloader_function, earth_explorer_patched\n",
    "\n",
    "username = input(\"Username: \")\n",
    "password = getpass(\"Password: \")\n",
    "\n",
    "# The satellite images will be stored in './satellite_images/pathrow/\n",
    "PATH_DATA = './'\n",
    "PATH_SATELLITE_IMAGES = PATH_DATA + 'satellite_images/'\n",
    "if os.path.exists(PATH_SATELLITE_IMAGES) is not True:\n",
    "    os.mkdir(PATH_SATELLITE_IMAGES)\n",
    "if os.path.exists(PATH_SATELLITE_IMAGES + location['country']) is not True:\n",
    "    os.mkdir(PATH_SATELLITE_IMAGES + location['country'])\n",
    "\n",
    "# Initialize a new API instance and get an access key\n",
    "api = API(username, password)\n",
    "ee = earth_explorer_patched(username, password)\n",
    "\n",
    "\n",
    "start = time.time()\n",
    "# This uses the satellite_images_downloader_function created in satellite_images_downloader_function.py\n",
    "# The product you'll get is all the bands, metadata, etc. that are associated with your specified location\n",
    "satellite_images_downloader_function(api=api, ee=ee, **my_dict)\n",
    "end = time.time()\n",
    "print(f\"{(end - start):.3f} seconds\")\n",
    "\n",
    "# Closing the API\n",
    "api.logout()\n",
    "ee.logout()"
   ]
  },
  {
   "cell_type": "code",
   "execution_count": null,
   "id": "b19e9903",
   "metadata": {},
   "outputs": [],
   "source": []
  }
 ],
 "metadata": {
  "kernelspec": {
   "display_name": "Python 3 (ipykernel)",
   "language": "python",
   "name": "python3"
  },
  "language_info": {
   "codemirror_mode": {
    "name": "ipython",
    "version": 3
   },
   "file_extension": ".py",
   "mimetype": "text/x-python",
   "name": "python",
   "nbconvert_exporter": "python",
   "pygments_lexer": "ipython3",
   "version": "3.10.7"
  }
 },
 "nbformat": 4,
 "nbformat_minor": 5
}
