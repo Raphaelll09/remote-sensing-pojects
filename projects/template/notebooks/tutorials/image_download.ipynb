{
 "cells": [
  {
   "cell_type": "markdown",
   "id": "cadb5c64",
   "metadata": {},
   "source": [
    "## Downloading from Copernicus"
   ]
  },
  {
   "cell_type": "code",
   "execution_count": 1,
   "id": "cf49daa6",
   "metadata": {},
   "outputs": [],
   "source": [
    "%%capture\n",
    "!pip install sentinelsat\n",
    "!pip install pandas"
   ]
  },
  {
   "cell_type": "code",
   "execution_count": 2,
   "id": "84869ea4",
   "metadata": {},
   "outputs": [],
   "source": [
    "from sentinelsat import SentinelAPI, read_geojson, geojson_to_wkt\n",
    "from datetime import date\n",
    "from getpass import getpass\n",
    "import pandas"
   ]
  },
  {
   "cell_type": "code",
   "execution_count": 3,
   "id": "96fda966",
   "metadata": {},
   "outputs": [
    {
     "name": "stdout",
     "output_type": "stream",
     "text": [
      "Username: \n",
      "Password: ········\n"
     ]
    }
   ],
   "source": [
    "# Create an account on https://scihub.copernicus.eu/dhus/#/home and input your credentials here\n",
    "username = input(\"Username: \")\n",
    "password = getpass(\"Password: \")\n",
    "\n",
    "# Image footprint generated from geojson.io\n",
    "geojson_file = \"./../../data/map.geojson\"\n",
    "\n",
    "# connect to the API\n",
    "api = SentinelAPI(username, password, 'https://apihub.copernicus.eu/apihub')"
   ]
  },
  {
   "cell_type": "code",
   "execution_count": 4,
   "id": "8394c114",
   "metadata": {},
   "outputs": [
    {
     "ename": "UnauthorizedError",
     "evalue": "Invalid user name or password. Note that account creation and password changes may take up to a week to propagate to the 'https://apihub.copernicus.eu/apihub/' API URL you are using. Consider switching to 'https://scihub.copernicus.eu/dhus/' instead in the mean time.",
     "output_type": "error",
     "traceback": [
      "\u001b[0;31m---------------------------------------------------------------------------\u001b[0m",
      "\u001b[0;31mHTTPError\u001b[0m                                 Traceback (most recent call last)",
      "File \u001b[0;32m~/desktop/program_files/miniconda3/lib/python3.9/site-packages/sentinelsat/sentinel.py:1017\u001b[0m, in \u001b[0;36mSentinelAPI._check_scihub_response\u001b[0;34m(response, test_json, query_string)\u001b[0m\n\u001b[1;32m   1016\u001b[0m \u001b[38;5;28;01mtry\u001b[39;00m:\n\u001b[0;32m-> 1017\u001b[0m     \u001b[43mresponse\u001b[49m\u001b[38;5;241;43m.\u001b[39;49m\u001b[43mraise_for_status\u001b[49m\u001b[43m(\u001b[49m\u001b[43m)\u001b[49m\n\u001b[1;32m   1018\u001b[0m     \u001b[38;5;28;01mif\u001b[39;00m test_json:\n",
      "File \u001b[0;32m~/desktop/program_files/miniconda3/lib/python3.9/site-packages/requests/models.py:960\u001b[0m, in \u001b[0;36mResponse.raise_for_status\u001b[0;34m(self)\u001b[0m\n\u001b[1;32m    959\u001b[0m \u001b[38;5;28;01mif\u001b[39;00m http_error_msg:\n\u001b[0;32m--> 960\u001b[0m     \u001b[38;5;28;01mraise\u001b[39;00m HTTPError(http_error_msg, response\u001b[38;5;241m=\u001b[39m\u001b[38;5;28mself\u001b[39m)\n",
      "\u001b[0;31mHTTPError\u001b[0m: 401 Client Error: Unauthorized for url: https://apihub.copernicus.eu/apihub/search?format=json&rows=100&start=0&q=beginPosition%3A%5B%222020-01-01T00%3A00%3A00Z%22+TO+%222020-01-11T00%3A00%3A00Z%22%5D+cloudcoverpercentage%3A%5B%220%22+TO+%2230%22%5D+platformname%3A%22Sentinel-2%22+footprint%3A%22Intersects%28GEOMETRYCOLLECTION%28POLYGON%28%285.6435+45.1375%2C5.8186+45.1375%2C5.8186+45.2357%2C5.6435+45.2357%2C5.6435+45.1375%29%29%29%29%22",
      "\nDuring handling of the above exception, another exception occurred:\n",
      "\u001b[0;31mUnauthorizedError\u001b[0m                         Traceback (most recent call last)",
      "Input \u001b[0;32mIn [4]\u001b[0m, in \u001b[0;36m<cell line: 7>\u001b[0;34m()\u001b[0m\n\u001b[1;32m      5\u001b[0m \u001b[38;5;66;03m# search by polygon, time, and Hub query keywords\u001b[39;00m\n\u001b[1;32m      6\u001b[0m footprint \u001b[38;5;241m=\u001b[39m geojson_to_wkt(read_geojson(geojson_file))\n\u001b[0;32m----> 7\u001b[0m products \u001b[38;5;241m=\u001b[39m \u001b[43mapi\u001b[49m\u001b[38;5;241;43m.\u001b[39;49m\u001b[43mquery\u001b[49m\u001b[43m(\u001b[49m\u001b[43mfootprint\u001b[49m\u001b[43m,\u001b[49m\n\u001b[1;32m      8\u001b[0m \u001b[43m                     \u001b[49m\u001b[43mdate\u001b[49m\u001b[43m \u001b[49m\u001b[38;5;241;43m=\u001b[39;49m\u001b[43m \u001b[49m\u001b[43m(\u001b[49m\u001b[43mstarting_date\u001b[49m\u001b[43m,\u001b[49m\u001b[43m \u001b[49m\u001b[43mending_date\u001b[49m\u001b[43m)\u001b[49m\u001b[43m,\u001b[49m\n\u001b[1;32m      9\u001b[0m \u001b[43m                     \u001b[49m\u001b[43mplatformname\u001b[49m\u001b[43m \u001b[49m\u001b[38;5;241;43m=\u001b[39;49m\u001b[43m \u001b[49m\u001b[38;5;124;43m'\u001b[39;49m\u001b[38;5;124;43mSentinel-2\u001b[39;49m\u001b[38;5;124;43m'\u001b[39;49m\u001b[43m,\u001b[49m\n\u001b[1;32m     10\u001b[0m \u001b[43m                     \u001b[49m\u001b[43mcloudcoverpercentage\u001b[49m\u001b[43m \u001b[49m\u001b[38;5;241;43m=\u001b[39;49m\u001b[43m \u001b[49m\u001b[43m(\u001b[49m\u001b[38;5;241;43m0\u001b[39;49m\u001b[43m,\u001b[49m\u001b[43m \u001b[49m\u001b[38;5;241;43m30\u001b[39;49m\u001b[43m)\u001b[49m\u001b[43m)\u001b[49m\n",
      "File \u001b[0;32m~/desktop/program_files/miniconda3/lib/python3.9/site-packages/sentinelsat/sentinel.py:282\u001b[0m, in \u001b[0;36mSentinelAPI.query\u001b[0;34m(self, area, date, raw, area_relation, order_by, limit, offset, **keywords)\u001b[0m\n\u001b[1;32m    274\u001b[0m \u001b[38;5;28mself\u001b[39m\u001b[38;5;241m.\u001b[39mlogger\u001b[38;5;241m.\u001b[39mdebug(\n\u001b[1;32m    275\u001b[0m     \u001b[38;5;124m\"\u001b[39m\u001b[38;5;124mRunning query: order_by=\u001b[39m\u001b[38;5;132;01m%s\u001b[39;00m\u001b[38;5;124m, limit=\u001b[39m\u001b[38;5;132;01m%s\u001b[39;00m\u001b[38;5;124m, offset=\u001b[39m\u001b[38;5;132;01m%s\u001b[39;00m\u001b[38;5;124m, query=\u001b[39m\u001b[38;5;132;01m%s\u001b[39;00m\u001b[38;5;124m\"\u001b[39m,\n\u001b[1;32m    276\u001b[0m     order_by,\n\u001b[0;32m   (...)\u001b[0m\n\u001b[1;32m    279\u001b[0m     query,\n\u001b[1;32m    280\u001b[0m )\n\u001b[1;32m    281\u001b[0m formatted_order_by \u001b[38;5;241m=\u001b[39m _format_order_by(order_by)\n\u001b[0;32m--> 282\u001b[0m response, count \u001b[38;5;241m=\u001b[39m \u001b[38;5;28;43mself\u001b[39;49m\u001b[38;5;241;43m.\u001b[39;49m\u001b[43m_load_query\u001b[49m\u001b[43m(\u001b[49m\u001b[43mquery\u001b[49m\u001b[43m,\u001b[49m\u001b[43m \u001b[49m\u001b[43mformatted_order_by\u001b[49m\u001b[43m,\u001b[49m\u001b[43m \u001b[49m\u001b[43mlimit\u001b[49m\u001b[43m,\u001b[49m\u001b[43m \u001b[49m\u001b[43moffset\u001b[49m\u001b[43m)\u001b[49m\n\u001b[1;32m    283\u001b[0m \u001b[38;5;28mself\u001b[39m\u001b[38;5;241m.\u001b[39mlogger\u001b[38;5;241m.\u001b[39minfo(\u001b[38;5;124mf\u001b[39m\u001b[38;5;124m\"\u001b[39m\u001b[38;5;124mFound \u001b[39m\u001b[38;5;132;01m{\u001b[39;00mcount\u001b[38;5;132;01m:\u001b[39;00m\u001b[38;5;124m,\u001b[39m\u001b[38;5;132;01m}\u001b[39;00m\u001b[38;5;124m products\u001b[39m\u001b[38;5;124m\"\u001b[39m)\n\u001b[1;32m    284\u001b[0m \u001b[38;5;28;01mreturn\u001b[39;00m _parse_opensearch_response(response)\n",
      "File \u001b[0;32m~/desktop/program_files/miniconda3/lib/python3.9/site-packages/sentinelsat/sentinel.py:355\u001b[0m, in \u001b[0;36mSentinelAPI._load_query\u001b[0;34m(self, query, order_by, limit, offset)\u001b[0m\n\u001b[1;32m    354\u001b[0m \u001b[38;5;28;01mdef\u001b[39;00m \u001b[38;5;21m_load_query\u001b[39m(\u001b[38;5;28mself\u001b[39m, query, order_by\u001b[38;5;241m=\u001b[39m\u001b[38;5;28;01mNone\u001b[39;00m, limit\u001b[38;5;241m=\u001b[39m\u001b[38;5;28;01mNone\u001b[39;00m, offset\u001b[38;5;241m=\u001b[39m\u001b[38;5;241m0\u001b[39m):\n\u001b[0;32m--> 355\u001b[0m     products, count \u001b[38;5;241m=\u001b[39m \u001b[38;5;28;43mself\u001b[39;49m\u001b[38;5;241;43m.\u001b[39;49m\u001b[43m_load_subquery\u001b[49m\u001b[43m(\u001b[49m\u001b[43mquery\u001b[49m\u001b[43m,\u001b[49m\u001b[43m \u001b[49m\u001b[43morder_by\u001b[49m\u001b[43m,\u001b[49m\u001b[43m \u001b[49m\u001b[43mlimit\u001b[49m\u001b[43m,\u001b[49m\u001b[43m \u001b[49m\u001b[43moffset\u001b[49m\u001b[43m)\u001b[49m\n\u001b[1;32m    357\u001b[0m     \u001b[38;5;66;03m# repeat query until all results have been loaded\u001b[39;00m\n\u001b[1;32m    358\u001b[0m     max_offset \u001b[38;5;241m=\u001b[39m count\n",
      "File \u001b[0;32m~/desktop/program_files/miniconda3/lib/python3.9/site-packages/sentinelsat/sentinel.py:389\u001b[0m, in \u001b[0;36mSentinelAPI._load_subquery\u001b[0;34m(self, query, order_by, limit, offset)\u001b[0m\n\u001b[1;32m    387\u001b[0m \u001b[38;5;28;01mwith\u001b[39;00m \u001b[38;5;28mself\u001b[39m\u001b[38;5;241m.\u001b[39mdl_limit_semaphore:\n\u001b[1;32m    388\u001b[0m     response \u001b[38;5;241m=\u001b[39m \u001b[38;5;28mself\u001b[39m\u001b[38;5;241m.\u001b[39msession\u001b[38;5;241m.\u001b[39mget(url, params\u001b[38;5;241m=\u001b[39m{\u001b[38;5;124m\"\u001b[39m\u001b[38;5;124mq\u001b[39m\u001b[38;5;124m\"\u001b[39m: query\u001b[38;5;241m.\u001b[39mencode(\u001b[38;5;124m\"\u001b[39m\u001b[38;5;124mlatin1\u001b[39m\u001b[38;5;124m\"\u001b[39m)})\n\u001b[0;32m--> 389\u001b[0m \u001b[38;5;28;43mself\u001b[39;49m\u001b[38;5;241;43m.\u001b[39;49m\u001b[43m_check_scihub_response\u001b[49m\u001b[43m(\u001b[49m\u001b[43mresponse\u001b[49m\u001b[43m,\u001b[49m\u001b[43m \u001b[49m\u001b[43mquery_string\u001b[49m\u001b[38;5;241;43m=\u001b[39;49m\u001b[43mquery\u001b[49m\u001b[43m)\u001b[49m\n\u001b[1;32m    391\u001b[0m \u001b[38;5;66;03m# store last status code (for testing)\u001b[39;00m\n\u001b[1;32m    392\u001b[0m \u001b[38;5;28mself\u001b[39m\u001b[38;5;241m.\u001b[39m_last_response \u001b[38;5;241m=\u001b[39m response\n",
      "File \u001b[0;32m~/desktop/program_files/miniconda3/lib/python3.9/site-packages/sentinelsat/sentinel.py:1047\u001b[0m, in \u001b[0;36mSentinelAPI._check_scihub_response\u001b[0;34m(response, test_json, query_string)\u001b[0m\n\u001b[1;32m   1041\u001b[0m     \u001b[38;5;28;01mif\u001b[39;00m \u001b[38;5;124m\"\u001b[39m\u001b[38;5;124mapihub.copernicus.eu/apihub\u001b[39m\u001b[38;5;124m\"\u001b[39m \u001b[38;5;129;01min\u001b[39;00m response\u001b[38;5;241m.\u001b[39murl:\n\u001b[1;32m   1042\u001b[0m         msg \u001b[38;5;241m+\u001b[39m\u001b[38;5;241m=\u001b[39m (\n\u001b[1;32m   1043\u001b[0m             \u001b[38;5;124m\"\u001b[39m\u001b[38;5;124m. Note that account creation and password changes may take up to a week \u001b[39m\u001b[38;5;124m\"\u001b[39m\n\u001b[1;32m   1044\u001b[0m             \u001b[38;5;124m\"\u001b[39m\u001b[38;5;124mto propagate to the \u001b[39m\u001b[38;5;124m'\u001b[39m\u001b[38;5;124mhttps://apihub.copernicus.eu/apihub/\u001b[39m\u001b[38;5;124m'\u001b[39m\u001b[38;5;124m API URL you are using. \u001b[39m\u001b[38;5;124m\"\u001b[39m\n\u001b[1;32m   1045\u001b[0m             \u001b[38;5;124m\"\u001b[39m\u001b[38;5;124mConsider switching to \u001b[39m\u001b[38;5;124m'\u001b[39m\u001b[38;5;124mhttps://scihub.copernicus.eu/dhus/\u001b[39m\u001b[38;5;124m'\u001b[39m\u001b[38;5;124m instead in the mean time.\u001b[39m\u001b[38;5;124m\"\u001b[39m\n\u001b[1;32m   1046\u001b[0m         )\n\u001b[0;32m-> 1047\u001b[0m     \u001b[38;5;28;01mraise\u001b[39;00m UnauthorizedError(msg, response)\n\u001b[1;32m   1048\u001b[0m \u001b[38;5;28;01melif\u001b[39;00m \u001b[38;5;124m\"\u001b[39m\u001b[38;5;124mRequest Entity Too Large\u001b[39m\u001b[38;5;124m\"\u001b[39m \u001b[38;5;129;01min\u001b[39;00m msg \u001b[38;5;129;01mor\u001b[39;00m \u001b[38;5;124m\"\u001b[39m\u001b[38;5;124mRequest-URI Too Long\u001b[39m\u001b[38;5;124m\"\u001b[39m \u001b[38;5;129;01min\u001b[39;00m msg:\n\u001b[1;32m   1049\u001b[0m     msg \u001b[38;5;241m=\u001b[39m \u001b[38;5;124m\"\u001b[39m\u001b[38;5;124mServer was unable to process the query due to its excessive length\u001b[39m\u001b[38;5;124m\"\u001b[39m\n",
      "\u001b[0;31mUnauthorizedError\u001b[0m: Invalid user name or password. Note that account creation and password changes may take up to a week to propagate to the 'https://apihub.copernicus.eu/apihub/' API URL you are using. Consider switching to 'https://scihub.copernicus.eu/dhus/' instead in the mean time."
     ]
    }
   ],
   "source": [
    "starting_date = date(2020, 1, 1)\n",
    "ending_date = date(2020, 1, 11)\n",
    "\n",
    "\n",
    "# search by polygon, time, and Hub query keywords\n",
    "footprint = geojson_to_wkt(read_geojson(geojson_file))\n",
    "products = api.query(footprint,\n",
    "                     date = (starting_date, ending_date),\n",
    "                     platformname = 'Sentinel-2',\n",
    "                     cloudcoverpercentage = (0, 30))"
   ]
  },
  {
   "cell_type": "code",
   "execution_count": null,
   "id": "18b32def",
   "metadata": {},
   "outputs": [],
   "source": [
    "# convert to Pandas DataFrame\n",
    "products_df = api.to_dataframe(products)\n",
    "\n",
    "# sort and limit to first sorted products\n",
    "products_df_sorted = products_df.sort_values(['cloudcoverpercentage', 'ingestiondate'], ascending=[True, True])\n",
    "products_df_sorted = products_df_sorted.head(1)\n"
   ]
  },
  {
   "cell_type": "code",
   "execution_count": null,
   "id": "a60c3c94",
   "metadata": {},
   "outputs": [],
   "source": [
    "# download all results from the search\n",
    "api.download_all(products_df_sorted.index)"
   ]
  },
  {
   "cell_type": "markdown",
   "id": "c725f076",
   "metadata": {},
   "source": [
    "# Downloading from Earth Explorer"
   ]
  },
  {
   "cell_type": "markdown",
   "id": "3c3088e2",
   "metadata": {},
   "source": [
    "\n",
    "2022 Montagnon Tristan (tristan.montagnon@univ-grenoble-alpes.fr || montagnon.tr@gmail.com)\n",
    "Satellite images downloader\n",
    "\n",
    "Questions, comments, and bug reports can be sent to:\n",
    "[Montagnon Tristan](tristan.montagnon@univ-grenoble-alpes.fr)\n",
    "\n",
    "## Installation and specificities\n",
    "--------------\n",
    "To have access to the data provided by Earth Explorer (EE):\n",
    "\n",
    "- Create an account EE (https://ers.cr.usgs.gov/login)\n",
    "\n",
    "- Request for Machine2Machine API access: https://ers.cr.usgs.gov/profile/access\n",
    "    There is a small form to fill to complete this step. \n",
    "\tWarning: This request will take a few days to be examined and accepted by EE staff\n",
    "\n",
    "--------------\n",
    "## To build the environment:\n",
    "    \n",
    "- Install landsatxplore package (with pip install landsatxplore): https://github.com/yannforget/landsatxplore \n",
    "- Adjustments to do in landsatxplore packages: \n",
    "    - In earthexplorer.py, comment / remove every line of \"ncform\":\n",
    "    - Line 39, to be commented / removed\n",
    "    - Line 43-44, to be commented / removed\n",
    "    - Line 46, remove / comment the output ncform ONLY\n",
    "    - Line 71, to be commented / removed"
   ]
  },
  {
   "cell_type": "markdown",
   "id": "5dba7b59",
   "metadata": {},
   "source": [
    "In the following example, we build a dictionary with the options required to download the dataset.\n",
    "\n",
    "- As `dataset`, we chose Landsat-2, but you can change the dataset you want to download:\n",
    "    \n",
    "    - Landsat 5 TM Collection 1 Level 1 \tlandsat_tm_c1       AVAILABLE\n",
    "    - Landsat 5 TM Collection 2 Level 1 \tlandsat_tm_c2_l1    AVAILABLE\n",
    "    - Landsat 5 TM Collection 2 Level 2 \tlandsat_tm_c2_l2    AVAILABLE\n",
    "    - Landsat 7 ETM+ Collection 1 Level 1 \tlandsat_etm_c1      AVAILABLE\n",
    "    - Landsat 7 ETM+ Collection 2 Level 1 \tlandsat_etm_c2_l1   NOT AVAILABLE\n",
    "    - Landsat 7 ETM+ Collection 2 Level 2 \tlandsat_etm_c2_l2   NOT AVAILABLE\n",
    "    - Landsat 8 Collection 1 Level 1 \t    landsat_8_c1        AVAILABLE\n",
    "    - Landsat 8 Collection 2 Level 1 \t    landsat_ot_c2_l1    NOT AVAILABLE\n",
    "    - Landsat 8 Collection 2 Level 2 \t    landsat_ot_c2_l2    NOT AVAILABLE\n",
    "    - Sentinel 2A \t                        sentinel_2a         AVAILABLE\n",
    "\n",
    "- By default, in the `location` field we set up to select a scene that contains the city of Grenoble.\n",
    "- The `max_results_search` isn't supposed to be changed\n",
    "- The `max_results_download` is the number of images you want to download\n",
    "- `start_date` and `end_date` must be adapted to your will. Note that the dates must be in `YYYY-MM-DD` format\n",
    "- With respect to `username` and `password`, your account linked to your username has to have acces to the M2M API. If you haven't done this step, please go this link: https://ers.cr.usgs.gov/profile/access"
   ]
  },
  {
   "cell_type": "code",
   "execution_count": 10,
   "id": "232bc57d",
   "metadata": {},
   "outputs": [
    {
     "name": "stdout",
     "output_type": "stream",
     "text": [
      "Username: TristanMTG\n"
     ]
    },
    {
     "ename": "NameError",
     "evalue": "name 'getpass' is not defined",
     "output_type": "error",
     "traceback": [
      "\u001b[0;31m---------------------------------------------------------------------------\u001b[0m",
      "\u001b[0;31mNameError\u001b[0m                                 Traceback (most recent call last)",
      "Input \u001b[0;32mIn [10]\u001b[0m, in \u001b[0;36m<cell line: 2>\u001b[0;34m()\u001b[0m\n\u001b[1;32m      1\u001b[0m username \u001b[38;5;241m=\u001b[39m \u001b[38;5;28minput\u001b[39m(\u001b[38;5;124m\"\u001b[39m\u001b[38;5;124mUsername: \u001b[39m\u001b[38;5;124m\"\u001b[39m)\n\u001b[0;32m----> 2\u001b[0m password \u001b[38;5;241m=\u001b[39m \u001b[43mgetpass\u001b[49m(\u001b[38;5;124m\"\u001b[39m\u001b[38;5;124mPassword: \u001b[39m\u001b[38;5;124m\"\u001b[39m)\n\u001b[1;32m      4\u001b[0m location \u001b[38;5;241m=\u001b[39m {\n\u001b[1;32m      5\u001b[0m     \u001b[38;5;124m'\u001b[39m\u001b[38;5;124mcountry\u001b[39m\u001b[38;5;124m'\u001b[39m: \u001b[38;5;124m'\u001b[39m\u001b[38;5;124mGrenoble\u001b[39m\u001b[38;5;124m'\u001b[39m, \n\u001b[1;32m      6\u001b[0m     \u001b[38;5;124m'\u001b[39m\u001b[38;5;124mlat\u001b[39m\u001b[38;5;124m'\u001b[39m: \u001b[38;5;241m45.2\u001b[39m, \n\u001b[1;32m      7\u001b[0m     \u001b[38;5;124m'\u001b[39m\u001b[38;5;124mlon\u001b[39m\u001b[38;5;124m'\u001b[39m: \u001b[38;5;241m5.7\u001b[39m\n\u001b[1;32m      8\u001b[0m }\n\u001b[1;32m     10\u001b[0m my_dict \u001b[38;5;241m=\u001b[39m {\n\u001b[1;32m     11\u001b[0m     \u001b[38;5;124m'\u001b[39m\u001b[38;5;124mlocation\u001b[39m\u001b[38;5;124m'\u001b[39m: location,\n\u001b[1;32m     12\u001b[0m     \u001b[38;5;124m'\u001b[39m\u001b[38;5;124mdataset\u001b[39m\u001b[38;5;124m'\u001b[39m: \u001b[38;5;124m'\u001b[39m\u001b[38;5;124mlandsat_tm_c2_l2\u001b[39m\u001b[38;5;124m'\u001b[39m,\n\u001b[0;32m   (...)\u001b[0m\n\u001b[1;32m     17\u001b[0m     \u001b[38;5;124m'\u001b[39m\u001b[38;5;124mmax_results_download\u001b[39m\u001b[38;5;124m'\u001b[39m: \u001b[38;5;241m2\u001b[39m,\n\u001b[1;32m     18\u001b[0m }\n",
      "\u001b[0;31mNameError\u001b[0m: name 'getpass' is not defined"
     ]
    }
   ],
   "source": [
    "location = {\n",
    "    'country': 'Grenoble', \n",
    "    'lat': 45.2, \n",
    "    'lon': 5.7\n",
    "}\n",
    "\n",
    "my_dict = {\n",
    "    'location': location,\n",
    "    'dataset': 'landsat_tm_c2_l2',\n",
    "    'start_date': '2017-01-01',\n",
    "    'end_date': '2022-01-01',\n",
    "    'max_cloud_cover': 100.,\n",
    "    'max_results_search': 100,\n",
    "    'max_results_download': 2,\n",
    "}"
   ]
  },
  {
   "cell_type": "code",
   "execution_count": 8,
   "id": "e1404c18",
   "metadata": {},
   "outputs": [],
   "source": [
    "%%capture\n",
    "# Installing the required package\n",
    "!pip install landsatxplore"
   ]
  },
  {
   "cell_type": "code",
   "execution_count": 13,
   "id": "b9dc23b4",
   "metadata": {},
   "outputs": [
    {
     "name": "stdout",
     "output_type": "stream",
     "text": [
      "Username: TristanMTG\n",
      "Password: ········\n",
      "\n",
      "\n",
      "Searching for scenes for the location: \n",
      "latitude: 45.2 \n",
      "longitude: 5.7\n",
      "\n",
      "0 scenes found.\n",
      "No scene to download !\n",
      "0.277 seconds\n"
     ]
    }
   ],
   "source": [
    "import time\n",
    "import sys, os, pathlib\n",
    "from getpass import getpass\n",
    "\n",
    "from landsatxplore.api import API\n",
    "\n",
    "sys.path.append(f\"{pathlib.Path.cwd().parents[1]}\")\n",
    "from src.loading.earth_explorer_downloader import satellite_images_downloader_function, earth_explorer_patched\n",
    "\n",
    "username = input(\"Username: \")\n",
    "password = getpass(\"Password: \")\n",
    "\n",
    "# The satellite images will be stored in './satellite_images/pathrow/\n",
    "PATH_DATA = './'\n",
    "PATH_SATELLITE_IMAGES = PATH_DATA + 'satellite_images/'\n",
    "if os.path.exists(PATH_SATELLITE_IMAGES) is not True:\n",
    "    os.mkdir(PATH_SATELLITE_IMAGES)\n",
    "if os.path.exists(PATH_SATELLITE_IMAGES + location['country']) is not True:\n",
    "    os.mkdir(PATH_SATELLITE_IMAGES + location['country'])\n",
    "\n",
    "# Initialize a new API instance and get an access key\n",
    "api = API(username, password)\n",
    "ee = earth_explorer_patched(username, password)\n",
    "\n",
    "\n",
    "start = time.time()\n",
    "# This uses the satellite_images_downloader_function created in satellite_images_downloader_function.py\n",
    "# The product you'll get is all the bands, metadata, etc. that are associated with your specified location\n",
    "satellite_images_downloader_function(api=api, ee=ee, **my_dict)\n",
    "end = time.time()\n",
    "print(f\"{(end - start):.3f} seconds\")\n",
    "\n",
    "# Closing the API\n",
    "api.logout()\n",
    "ee.logout()"
   ]
  },
  {
   "cell_type": "code",
   "execution_count": null,
   "id": "b19e9903",
   "metadata": {},
   "outputs": [],
   "source": []
  }
 ],
 "metadata": {
  "kernelspec": {
   "display_name": "Python 3 (ipykernel)",
   "language": "python",
   "name": "python3"
  },
  "language_info": {
   "codemirror_mode": {
    "name": "ipython",
    "version": 3
   },
   "file_extension": ".py",
   "mimetype": "text/x-python",
   "name": "python",
   "nbconvert_exporter": "python",
   "pygments_lexer": "ipython3",
   "version": "3.9.12"
  }
 },
 "nbformat": 4,
 "nbformat_minor": 5
}
